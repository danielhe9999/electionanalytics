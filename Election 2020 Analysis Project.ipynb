{
 "cells": [
  {
   "cell_type": "code",
   "execution_count": 41,
   "metadata": {},
   "outputs": [],
   "source": [
    "import pandas as pd\n"
   ]
  },
  {
   "cell_type": "code",
   "execution_count": 42,
   "metadata": {},
   "outputs": [],
   "source": [
    "frame = pd.read_csv('Election1.csv')"
   ]
  },
  {
   "cell_type": "code",
   "execution_count": null,
   "metadata": {},
   "outputs": [],
   "source": []
  },
  {
   "cell_type": "code",
   "execution_count": 44,
   "metadata": {},
   "outputs": [],
   "source": [
    "frame = frame[frame['Total number of voters'] != \"0\"] "
   ]
  },
  {
   "cell_type": "code",
   "execution_count": 45,
   "metadata": {},
   "outputs": [],
   "source": [
    "frame = frame.sort_values(by = 'Margin Amount', ascending = False)"
   ]
  },
  {
   "cell_type": "code",
   "execution_count": null,
   "metadata": {},
   "outputs": [],
   "source": []
  },
  {
   "cell_type": "code",
   "execution_count": 46,
   "metadata": {},
   "outputs": [],
   "source": [
    "edit = frame['Margin Amount'].tolist()"
   ]
  },
  {
   "cell_type": "code",
   "execution_count": 8,
   "metadata": {},
   "outputs": [
    {
     "data": {
      "text/plain": [
       "4232"
      ]
     },
     "execution_count": 8,
     "metadata": {},
     "output_type": "execute_result"
    }
   ],
   "source": [
    "len(edit)"
   ]
  },
  {
   "cell_type": "code",
   "execution_count": 47,
   "metadata": {},
   "outputs": [],
   "source": [
    "newlist = []\n",
    "for row in edit:\n",
    "    if (\"<\" in row):\n",
    "        str = row.replace(\"<\", \"+\")\n",
    "        newlist.append(str)\n",
    "    else:\n",
    "        newlist.append(row)"
   ]
  },
  {
   "cell_type": "code",
   "execution_count": 10,
   "metadata": {},
   "outputs": [
    {
     "data": {
      "text/plain": [
       "4232"
      ]
     },
     "execution_count": 10,
     "metadata": {},
     "output_type": "execute_result"
    }
   ],
   "source": [
    "len(newlist)"
   ]
  },
  {
   "cell_type": "code",
   "execution_count": null,
   "metadata": {},
   "outputs": [],
   "source": []
  },
  {
   "cell_type": "code",
   "execution_count": 48,
   "metadata": {},
   "outputs": [],
   "source": [
    "winnerlist = []\n",
    "marginlist = []\n",
    "for item in newlist:\n",
    "    try: \n",
    "        splitter = item.split(\"+\")\n",
    "        winnerlist.append(splitter[0])\n",
    "        marginlist.append(splitter[1])\n",
    "    except:\n",
    "        marginlist.append(\"0 \")\n",
    "    "
   ]
  },
  {
   "cell_type": "code",
   "execution_count": 49,
   "metadata": {},
   "outputs": [],
   "source": [
    "frame['Winner'] = winnerlist\n",
    "frame['Margin of victory'] = marginlist"
   ]
  },
  {
   "cell_type": "code",
   "execution_count": 13,
   "metadata": {},
   "outputs": [
    {
     "data": {
      "text/html": [
       "<div>\n",
       "<style scoped>\n",
       "    .dataframe tbody tr th:only-of-type {\n",
       "        vertical-align: middle;\n",
       "    }\n",
       "\n",
       "    .dataframe tbody tr th {\n",
       "        vertical-align: top;\n",
       "    }\n",
       "\n",
       "    .dataframe thead th {\n",
       "        text-align: right;\n",
       "    }\n",
       "</style>\n",
       "<table border=\"1\" class=\"dataframe\">\n",
       "  <thead>\n",
       "    <tr style=\"text-align: right;\">\n",
       "      <th></th>\n",
       "      <th>Name of State</th>\n",
       "      <th>County Name</th>\n",
       "      <th>Margin Amount</th>\n",
       "      <th>Total number of voters</th>\n",
       "      <th>Winner</th>\n",
       "      <th>Margin of victory</th>\n",
       "    </tr>\n",
       "  </thead>\n",
       "  <tbody>\n",
       "    <tr>\n",
       "      <th>1595</th>\n",
       "      <td>michigan</td>\n",
       "      <td>Muskegon</td>\n",
       "      <td>Trump &lt;0.1</td>\n",
       "      <td>94,497</td>\n",
       "      <td>Trump</td>\n",
       "      <td>0.1</td>\n",
       "    </tr>\n",
       "    <tr>\n",
       "      <th>4407</th>\n",
       "      <td>new-hampshire</td>\n",
       "      <td>Winchester</td>\n",
       "      <td>Trump &lt;0.1</td>\n",
       "      <td>2,019</td>\n",
       "      <td>Trump</td>\n",
       "      <td>0.1</td>\n",
       "    </tr>\n",
       "    <tr>\n",
       "      <th>4037</th>\n",
       "      <td>texas</td>\n",
       "      <td>Roberts</td>\n",
       "      <td>Trump +93</td>\n",
       "      <td>550</td>\n",
       "      <td>Trump</td>\n",
       "      <td>93</td>\n",
       "    </tr>\n",
       "    <tr>\n",
       "      <th>4077</th>\n",
       "      <td>texas</td>\n",
       "      <td>Borden</td>\n",
       "      <td>Trump +92</td>\n",
       "      <td>412</td>\n",
       "      <td>Trump</td>\n",
       "      <td>92</td>\n",
       "    </tr>\n",
       "    <tr>\n",
       "      <th>4039</th>\n",
       "      <td>texas</td>\n",
       "      <td>King</td>\n",
       "      <td>Trump +90</td>\n",
       "      <td>159</td>\n",
       "      <td>Trump</td>\n",
       "      <td>90</td>\n",
       "    </tr>\n",
       "    <tr>\n",
       "      <th>...</th>\n",
       "      <td>...</td>\n",
       "      <td>...</td>\n",
       "      <td>...</td>\n",
       "      <td>...</td>\n",
       "      <td>...</td>\n",
       "      <td>...</td>\n",
       "    </tr>\n",
       "    <tr>\n",
       "      <th>1616</th>\n",
       "      <td>minnesota</td>\n",
       "      <td>Winona</td>\n",
       "      <td>Biden +0.2</td>\n",
       "      <td>26,997</td>\n",
       "      <td>Biden</td>\n",
       "      <td>0.2</td>\n",
       "    </tr>\n",
       "    <tr>\n",
       "      <th>1446</th>\n",
       "      <td>massachusetts</td>\n",
       "      <td>Barre</td>\n",
       "      <td>Biden +0.1</td>\n",
       "      <td>3,163</td>\n",
       "      <td>Biden</td>\n",
       "      <td>0.1</td>\n",
       "    </tr>\n",
       "    <tr>\n",
       "      <th>4462</th>\n",
       "      <td>new-hampshire</td>\n",
       "      <td>Springfield</td>\n",
       "      <td>Biden +0.1</td>\n",
       "      <td>889</td>\n",
       "      <td>Biden</td>\n",
       "      <td>0.1</td>\n",
       "    </tr>\n",
       "    <tr>\n",
       "      <th>2075</th>\n",
       "      <td>north-carolina</td>\n",
       "      <td>Pasquotank</td>\n",
       "      <td>Biden +0.1</td>\n",
       "      <td>19,512</td>\n",
       "      <td>Biden</td>\n",
       "      <td>0.1</td>\n",
       "    </tr>\n",
       "    <tr>\n",
       "      <th>3500</th>\n",
       "      <td>maine</td>\n",
       "      <td>Brownfield</td>\n",
       "      <td>Biden +0.1</td>\n",
       "      <td>952</td>\n",
       "      <td>Biden</td>\n",
       "      <td>0.1</td>\n",
       "    </tr>\n",
       "  </tbody>\n",
       "</table>\n",
       "<p>4232 rows × 6 columns</p>\n",
       "</div>"
      ],
      "text/plain": [
       "       Name of State  County Name Margin Amount Total number of voters  \\\n",
       "1595        michigan     Muskegon   Trump <0.1                  94,497   \n",
       "4407   new-hampshire   Winchester   Trump <0.1                   2,019   \n",
       "4037           texas      Roberts    Trump +93                     550   \n",
       "4077           texas       Borden    Trump +92                     412   \n",
       "4039           texas         King    Trump +90                     159   \n",
       "...              ...          ...           ...                    ...   \n",
       "1616       minnesota       Winona   Biden +0.2                  26,997   \n",
       "1446   massachusetts        Barre   Biden +0.1                   3,163   \n",
       "4462   new-hampshire  Springfield   Biden +0.1                     889   \n",
       "2075  north-carolina   Pasquotank   Biden +0.1                  19,512   \n",
       "3500           maine   Brownfield   Biden +0.1                     952   \n",
       "\n",
       "       Winner Margin of victory  \n",
       "1595   Trump               0.1   \n",
       "4407   Trump               0.1   \n",
       "4037   Trump                93   \n",
       "4077   Trump                92   \n",
       "4039   Trump                90   \n",
       "...       ...               ...  \n",
       "1616   Biden               0.2   \n",
       "1446   Biden               0.1   \n",
       "4462   Biden               0.1   \n",
       "2075   Biden               0.1   \n",
       "3500   Biden               0.1   \n",
       "\n",
       "[4232 rows x 6 columns]"
      ]
     },
     "execution_count": 13,
     "metadata": {},
     "output_type": "execute_result"
    }
   ],
   "source": [
    "frame"
   ]
  },
  {
   "cell_type": "code",
   "execution_count": 15,
   "metadata": {},
   "outputs": [],
   "source": [
    "# frame = frame[frame['Name of State'] != 'alaska']"
   ]
  },
  {
   "cell_type": "code",
   "execution_count": null,
   "metadata": {},
   "outputs": [],
   "source": []
  },
  {
   "cell_type": "code",
   "execution_count": null,
   "metadata": {},
   "outputs": [],
   "source": []
  },
  {
   "cell_type": "code",
   "execution_count": null,
   "metadata": {},
   "outputs": [],
   "source": []
  },
  {
   "cell_type": "code",
   "execution_count": 50,
   "metadata": {},
   "outputs": [],
   "source": [
    "stateabbreviations = ['AL','AK','AZ','AR','CA','CO','CT','DE','FL','GA','HI','ID','IL','IN','IA','KS','KY','LA','ME','MD',\n",
    "                      'MA','MI','MN','MS','MO','MT','NE','NV','NH','NJ','NM','NY','NC','ND','OH','OK','OR','PA','RI','SC',\n",
    "                      'SD','TN','TX','UT','VT','VA','WA','WV','WI','WY']\n",
    "states = [\"Alabama\", \"Alaska\", \"Arizona\", \"Arkansas\", \"California\", \"Colorado\", \"Connecticut\", \"Delaware\", \"Florida\", \n",
    "          \"Georgia\", \"Hawaii\",\"Idaho\",\"Illinois\", \"Indiana\",\"Iowa\",\"Kansas\",\"Kentucky\",\"Louisiana\",\"Maine\",\"Maryland\",\n",
    "          \"Massachusetts\",\"Michigan\",\"Minnesota\", \"Mississippi\",\"Missouri\",\"Montana\",\"Nebraska\",\"Nevada\", \"New Hampshire\",\n",
    "          \"New Jersey\",\"New Mexico\",\"New York\",\"North Carolina\",\"North Dakota\",\"Ohio\",\"Oklahoma\",\"Oregon\",\"Pennsylvania\",\n",
    "          \"Rhode Island\",\"South Carolina\",\"South Dakota\",\"Tennessee\",\"Texas\",\"Utah\",\"Vermont\",\"Virginia\",\"Washington\",\n",
    "          \"West Virginia\",\"Wisconsin\",\"Wyoming\"]\n",
    "statesnew = []\n",
    "for s in states:\n",
    "    s = s.replace(\" \", \"-\")\n",
    "    s = s.lower()\n",
    "    statesnew.append(s)\n"
   ]
  },
  {
   "cell_type": "code",
   "execution_count": 51,
   "metadata": {},
   "outputs": [],
   "source": [
    "statenames = frame['Name of State'].tolist()\n",
    "countynames = frame['County Name'].tolist()\n"
   ]
  },
  {
   "cell_type": "code",
   "execution_count": null,
   "metadata": {},
   "outputs": [],
   "source": []
  },
  {
   "cell_type": "code",
   "execution_count": 74,
   "metadata": {},
   "outputs": [],
   "source": [
    "count = 0\n",
    "combinednames = []\n",
    "for num in range(len(statenames)):\n",
    "    statename = statenames[num]\n",
    "    for state in statesnew:\n",
    "        count = count + 1\n",
    "        if (state == statename):\n",
    "            index = statesnew.index(state)\n",
    "            combinedstring = countynames[num] + \",\" + stateabbreviations[index]\n",
    "            combinednames.append(combinedstring)"
   ]
  },
  {
   "cell_type": "code",
   "execution_count": 75,
   "metadata": {},
   "outputs": [
    {
     "data": {
      "text/plain": [
       "4232"
      ]
     },
     "execution_count": 75,
     "metadata": {},
     "output_type": "execute_result"
    }
   ],
   "source": [
    "len(combinednames)"
   ]
  },
  {
   "cell_type": "code",
   "execution_count": 76,
   "metadata": {},
   "outputs": [],
   "source": [
    "frame['County + State'] = combinednames"
   ]
  },
  {
   "cell_type": "code",
   "execution_count": 80,
   "metadata": {},
   "outputs": [
    {
     "data": {
      "text/html": [
       "<div>\n",
       "<style scoped>\n",
       "    .dataframe tbody tr th:only-of-type {\n",
       "        vertical-align: middle;\n",
       "    }\n",
       "\n",
       "    .dataframe tbody tr th {\n",
       "        vertical-align: top;\n",
       "    }\n",
       "\n",
       "    .dataframe thead th {\n",
       "        text-align: right;\n",
       "    }\n",
       "</style>\n",
       "<table border=\"1\" class=\"dataframe\">\n",
       "  <thead>\n",
       "    <tr style=\"text-align: right;\">\n",
       "      <th></th>\n",
       "      <th>Name of State</th>\n",
       "      <th>County Name</th>\n",
       "      <th>Margin Amount</th>\n",
       "      <th>Total number of voters</th>\n",
       "      <th>Winner</th>\n",
       "      <th>Margin of victory</th>\n",
       "      <th>County + State</th>\n",
       "    </tr>\n",
       "  </thead>\n",
       "  <tbody>\n",
       "    <tr>\n",
       "      <th>1616</th>\n",
       "      <td>minnesota</td>\n",
       "      <td>Winona</td>\n",
       "      <td>Biden +0.2</td>\n",
       "      <td>26,997</td>\n",
       "      <td>Biden</td>\n",
       "      <td>0.2</td>\n",
       "      <td>Winona,MN</td>\n",
       "    </tr>\n",
       "    <tr>\n",
       "      <th>1446</th>\n",
       "      <td>massachusetts</td>\n",
       "      <td>Barre</td>\n",
       "      <td>Biden +0.1</td>\n",
       "      <td>3,163</td>\n",
       "      <td>Biden</td>\n",
       "      <td>0.1</td>\n",
       "      <td>Barre,MA</td>\n",
       "    </tr>\n",
       "    <tr>\n",
       "      <th>4462</th>\n",
       "      <td>new-hampshire</td>\n",
       "      <td>Springfield</td>\n",
       "      <td>Biden +0.1</td>\n",
       "      <td>889</td>\n",
       "      <td>Biden</td>\n",
       "      <td>0.1</td>\n",
       "      <td>Springfield,NH</td>\n",
       "    </tr>\n",
       "    <tr>\n",
       "      <th>2075</th>\n",
       "      <td>north-carolina</td>\n",
       "      <td>Pasquotank</td>\n",
       "      <td>Biden +0.1</td>\n",
       "      <td>19,512</td>\n",
       "      <td>Biden</td>\n",
       "      <td>0.1</td>\n",
       "      <td>Pasquotank,NC</td>\n",
       "    </tr>\n",
       "    <tr>\n",
       "      <th>3500</th>\n",
       "      <td>maine</td>\n",
       "      <td>Brownfield</td>\n",
       "      <td>Biden +0.1</td>\n",
       "      <td>952</td>\n",
       "      <td>Biden</td>\n",
       "      <td>0.1</td>\n",
       "      <td>Brownfield,ME</td>\n",
       "    </tr>\n",
       "  </tbody>\n",
       "</table>\n",
       "</div>"
      ],
      "text/plain": [
       "       Name of State  County Name Margin Amount Total number of voters  \\\n",
       "1616       minnesota       Winona   Biden +0.2                  26,997   \n",
       "1446   massachusetts        Barre   Biden +0.1                   3,163   \n",
       "4462   new-hampshire  Springfield   Biden +0.1                     889   \n",
       "2075  north-carolina   Pasquotank   Biden +0.1                  19,512   \n",
       "3500           maine   Brownfield   Biden +0.1                     952   \n",
       "\n",
       "       Winner Margin of victory  County + State  \n",
       "1616   Biden               0.2        Winona,MN  \n",
       "1446   Biden               0.1         Barre,MA  \n",
       "4462   Biden               0.1   Springfield,NH  \n",
       "2075   Biden               0.1    Pasquotank,NC  \n",
       "3500   Biden               0.1    Brownfield,ME  "
      ]
     },
     "execution_count": 80,
     "metadata": {},
     "output_type": "execute_result"
    }
   ],
   "source": []
  },
  {
   "cell_type": "code",
   "execution_count": 82,
   "metadata": {},
   "outputs": [],
   "source": [
    "frame = frame.drop(['Name of State', 'County Name', 'Margin Amount'], axis = 1)"
   ]
  },
  {
   "cell_type": "code",
   "execution_count": 84,
   "metadata": {},
   "outputs": [],
   "source": [
    "frame.to_csv('ElectionResults.csv')"
   ]
  },
  {
   "cell_type": "code",
   "execution_count": 85,
   "metadata": {},
   "outputs": [
    {
     "data": {
      "text/html": [
       "<div>\n",
       "<style scoped>\n",
       "    .dataframe tbody tr th:only-of-type {\n",
       "        vertical-align: middle;\n",
       "    }\n",
       "\n",
       "    .dataframe tbody tr th {\n",
       "        vertical-align: top;\n",
       "    }\n",
       "\n",
       "    .dataframe thead th {\n",
       "        text-align: right;\n",
       "    }\n",
       "</style>\n",
       "<table border=\"1\" class=\"dataframe\">\n",
       "  <thead>\n",
       "    <tr style=\"text-align: right;\">\n",
       "      <th></th>\n",
       "      <th>Total number of voters</th>\n",
       "      <th>Winner</th>\n",
       "      <th>Margin of victory</th>\n",
       "      <th>County + State</th>\n",
       "    </tr>\n",
       "  </thead>\n",
       "  <tbody>\n",
       "    <tr>\n",
       "      <th>1595</th>\n",
       "      <td>94,497</td>\n",
       "      <td>Trump</td>\n",
       "      <td>0.1</td>\n",
       "      <td>Muskegon,MI</td>\n",
       "    </tr>\n",
       "    <tr>\n",
       "      <th>4407</th>\n",
       "      <td>2,019</td>\n",
       "      <td>Trump</td>\n",
       "      <td>0.1</td>\n",
       "      <td>Winchester,NH</td>\n",
       "    </tr>\n",
       "    <tr>\n",
       "      <th>4037</th>\n",
       "      <td>550</td>\n",
       "      <td>Trump</td>\n",
       "      <td>93</td>\n",
       "      <td>Roberts,TX</td>\n",
       "    </tr>\n",
       "    <tr>\n",
       "      <th>4077</th>\n",
       "      <td>412</td>\n",
       "      <td>Trump</td>\n",
       "      <td>92</td>\n",
       "      <td>Borden,TX</td>\n",
       "    </tr>\n",
       "    <tr>\n",
       "      <th>4039</th>\n",
       "      <td>159</td>\n",
       "      <td>Trump</td>\n",
       "      <td>90</td>\n",
       "      <td>King,TX</td>\n",
       "    </tr>\n",
       "    <tr>\n",
       "      <th>...</th>\n",
       "      <td>...</td>\n",
       "      <td>...</td>\n",
       "      <td>...</td>\n",
       "      <td>...</td>\n",
       "    </tr>\n",
       "    <tr>\n",
       "      <th>1616</th>\n",
       "      <td>26,997</td>\n",
       "      <td>Biden</td>\n",
       "      <td>0.2</td>\n",
       "      <td>Winona,MN</td>\n",
       "    </tr>\n",
       "    <tr>\n",
       "      <th>1446</th>\n",
       "      <td>3,163</td>\n",
       "      <td>Biden</td>\n",
       "      <td>0.1</td>\n",
       "      <td>Barre,MA</td>\n",
       "    </tr>\n",
       "    <tr>\n",
       "      <th>4462</th>\n",
       "      <td>889</td>\n",
       "      <td>Biden</td>\n",
       "      <td>0.1</td>\n",
       "      <td>Springfield,NH</td>\n",
       "    </tr>\n",
       "    <tr>\n",
       "      <th>2075</th>\n",
       "      <td>19,512</td>\n",
       "      <td>Biden</td>\n",
       "      <td>0.1</td>\n",
       "      <td>Pasquotank,NC</td>\n",
       "    </tr>\n",
       "    <tr>\n",
       "      <th>3500</th>\n",
       "      <td>952</td>\n",
       "      <td>Biden</td>\n",
       "      <td>0.1</td>\n",
       "      <td>Brownfield,ME</td>\n",
       "    </tr>\n",
       "  </tbody>\n",
       "</table>\n",
       "<p>4232 rows × 4 columns</p>\n",
       "</div>"
      ],
      "text/plain": [
       "     Total number of voters   Winner Margin of victory  County + State\n",
       "1595                 94,497   Trump               0.1      Muskegon,MI\n",
       "4407                  2,019   Trump               0.1    Winchester,NH\n",
       "4037                    550   Trump                93       Roberts,TX\n",
       "4077                    412   Trump                92        Borden,TX\n",
       "4039                    159   Trump                90          King,TX\n",
       "...                     ...      ...               ...             ...\n",
       "1616                 26,997   Biden               0.2        Winona,MN\n",
       "1446                  3,163   Biden               0.1         Barre,MA\n",
       "4462                    889   Biden               0.1   Springfield,NH\n",
       "2075                 19,512   Biden               0.1    Pasquotank,NC\n",
       "3500                    952   Biden               0.1    Brownfield,ME\n",
       "\n",
       "[4232 rows x 4 columns]"
      ]
     },
     "execution_count": 85,
     "metadata": {},
     "output_type": "execute_result"
    }
   ],
   "source": [
    "frame"
   ]
  },
  {
   "cell_type": "code",
   "execution_count": null,
   "metadata": {},
   "outputs": [],
   "source": []
  }
 ],
 "metadata": {
  "kernelspec": {
   "display_name": "Python 3",
   "language": "python",
   "name": "python3"
  },
  "language_info": {
   "codemirror_mode": {
    "name": "ipython",
    "version": 3
   },
   "file_extension": ".py",
   "mimetype": "text/x-python",
   "name": "python",
   "nbconvert_exporter": "python",
   "pygments_lexer": "ipython3",
   "version": "3.7.6"
  }
 },
 "nbformat": 4,
 "nbformat_minor": 4
}
